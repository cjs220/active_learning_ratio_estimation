{
 "cells": [
  {
   "cell_type": "code",
   "execution_count": 1,
   "metadata": {},
   "outputs": [],
   "source": [
    "import sys; sys.path.insert(0, '..')"
   ]
  },
  {
   "cell_type": "code",
   "execution_count": 2,
   "metadata": {},
   "outputs": [],
   "source": [
    "import logging\n",
    "\n",
    "import numpy as np\n",
    "import tensorflow as tf\n",
    "import tensorflow_probability as tfp\n",
    "\n",
    "tfd = tfp.distributions\n",
    "\n",
    "from active_learning_ratio_estimation.active_learning.active_learner import ActiveLearner\n",
    "from active_learning_ratio_estimation.dataset import ParamIterator, ParamGrid, SinglyParameterizedRatioDataset\n",
    "from active_learning_ratio_estimation.model import FlipoutClassifier, SinglyParameterizedRatioModel"
   ]
  },
  {
   "cell_type": "code",
   "execution_count": 3,
   "metadata": {},
   "outputs": [],
   "source": [
    "# make logger output only INFO from active_learning_ratio_estimation\n",
    "logging.basicConfig(\n",
    "    format='%(asctime)-5.5s %(name)-20.20s %(levelname)-7.7s %(message)s',\n",
    "    datefmt='%H:%M',\n",
    "    level=logging.INFO\n",
    ")\n",
    "\n",
    "for key in logging.Logger.manager.loggerDict:\n",
    "    if \"active_learning_ratio_estimation\" not in key:\n",
    "        logging.getLogger(key).setLevel(logging.WARNING)"
   ]
  },
  {
   "cell_type": "code",
   "execution_count": 4,
   "metadata": {},
   "outputs": [],
   "source": [
    "def triple_mixture(gamma):\n",
    "    mixture_probs = [\n",
    "        0.5 * (1 - gamma),\n",
    "        0.5 * (1 - gamma),\n",
    "        gamma\n",
    "    ]\n",
    "    gaussians = [\n",
    "        tfd.Normal(loc=-2, scale=0.75),\n",
    "        tfd.Normal(loc=0, scale=2),\n",
    "        tfd.Normal(loc=1, scale=0.5)\n",
    "    ]\n",
    "    dist = tfd.Mixture(\n",
    "        cat=tfd.Categorical(probs=mixture_probs),\n",
    "        components=gaussians\n",
    "    )\n",
    "    return dist"
   ]
  },
  {
   "cell_type": "code",
   "execution_count": 5,
   "metadata": {},
   "outputs": [],
   "source": [
    "theta_bounds = (0, 1)\n",
    "theta_0 = 0.05\n",
    "theta_1_iterator = ParamGrid(bounds=[theta_bounds], num=5)\n",
    "num_grid = 101\n",
    "n_samples_per_theta = int(1e3)\n",
    "param_grid = ParamGrid(bounds=[theta_bounds], num=num_grid)"
   ]
  },
  {
   "cell_type": "code",
   "execution_count": 6,
   "metadata": {},
   "outputs": [],
   "source": [
    "test_param_points = 10\n",
    "test_iterator = ParamIterator([np.random.rand(1) for _ in range(test_param_points)])\n",
    "test_dataset = SinglyParameterizedRatioDataset.from_simulator(\n",
    "    simulator_func=triple_mixture,\n",
    "    theta_0=theta_0,\n",
    "    theta_1_iterator=test_iterator,\n",
    "    n_samples_per_theta=n_samples_per_theta,\n",
    "    include_log_probs=True\n",
    ")"
   ]
  },
  {
   "cell_type": "code",
   "execution_count": 7,
   "metadata": {},
   "outputs": [],
   "source": [
    "estimator = FlipoutClassifier(\n",
    "    n_hidden=(15, 15),\n",
    "    epochs=1,\n",
    "    patience=0,\n",
    "    validation_split=0.1,\n",
    "    verbose=0,\n",
    ")\n",
    "ratio_model = SinglyParameterizedRatioModel(estimator=estimator)"
   ]
  },
  {
   "cell_type": "code",
   "execution_count": 8,
   "metadata": {},
   "outputs": [],
   "source": [
    "learners = dict()\n",
    "test_mses = dict()\n",
    "acquisition_functions = [\n",
    "    'std_regressor',\n",
    "    'random',\n",
    "]"
   ]
  },
  {
   "cell_type": "code",
   "execution_count": null,
   "metadata": {
    "scrolled": true
   },
   "outputs": [
    {
     "name": "stdout",
     "output_type": "stream",
     "text": [
      "\n",
      "**** Fitting with std_regressor ****\n",
      "\n",
      "WARNING:tensorflow:From C:\\Users\\h12913cs\\AppData\\Local\\Continuum\\miniconda3\\envs\\py37\\lib\\site-packages\\tensorflow_probability\\python\\layers\\util.py:104: Layer.add_variable (from tensorflow.python.keras.engine.base_layer) is deprecated and will be removed in a future version.\n",
      "Instructions for updating:\n",
      "Please use `layer.add_weight` method instead.\n"
     ]
    },
    {
     "name": "stderr",
     "output_type": "stream",
     "text": [
      "11:04 tensorflow           WARNING From C:\\Users\\h12913cs\\AppData\\Local\\Continuum\\miniconda3\\envs\\py37\\lib\\site-packages\\tensorflow_probability\\python\\layers\\util.py:104: Layer.add_variable (from tensorflow.python.keras.engine.base_layer) is deprecated and will be removed in a future version.\n",
      "Instructions for updating:\n",
      "Please use `layer.add_weight` method instead.\n",
      "11:04 active_learning_rati INFO    Active learning iteration 1/10\n",
      "11:05 active_learning_rati INFO    Adding theta = [0.95] to labeled data.\n",
      "11:05 active_learning_rati INFO    Fitting ratio model\n",
      "11:05 active_learning_rati INFO    Finished fitting ratio model. Best epoch information: loss=7.09E-01, accuracy=6.16E-01, val_loss=6.73E-01, val_accuracy=6.65E-01\n",
      "11:05 active_learning_rati INFO    Evaluating MSE on test dataset\n",
      "11:06 active_learning_rati INFO    Test MSE: 2.09E-02\n",
      "11:06 active_learning_rati INFO    Active learning iteration 2/10\n",
      "11:07 active_learning_rati INFO    Adding theta = [0.99] to labeled data.\n",
      "11:07 active_learning_rati INFO    Fitting ratio model\n",
      "11:07 active_learning_rati INFO    Finished fitting ratio model. Best epoch information: loss=6.88E-01, accuracy=6.36E-01, val_loss=6.27E-01, val_accuracy=7.01E-01\n",
      "11:07 active_learning_rati INFO    Evaluating MSE on test dataset\n",
      "11:08 active_learning_rati INFO    Test MSE: 2.20E-02\n",
      "11:08 active_learning_rati INFO    Active learning iteration 3/10\n",
      "11:09 active_learning_rati INFO    Adding theta = [0.98] to labeled data.\n",
      "11:09 active_learning_rati INFO    Fitting ratio model\n",
      "11:09 active_learning_rati INFO    Finished fitting ratio model. Best epoch information: loss=6.50E-01, accuracy=6.67E-01, val_loss=6.11E-01, val_accuracy=7.14E-01\n",
      "11:09 active_learning_rati INFO    Evaluating MSE on test dataset\n",
      "11:10 active_learning_rati INFO    Test MSE: 2.04E-02\n",
      "11:10 active_learning_rati INFO    Active learning iteration 4/10\n",
      "11:11 active_learning_rati INFO    Adding theta = [0.97] to labeled data.\n",
      "11:11 active_learning_rati INFO    Fitting ratio model\n",
      "11:12 active_learning_rati INFO    Finished fitting ratio model. Best epoch information: loss=6.46E-01, accuracy=6.91E-01, val_loss=5.71E-01, val_accuracy=7.34E-01\n",
      "11:12 active_learning_rati INFO    Evaluating MSE on test dataset\n",
      "11:13 active_learning_rati INFO    Test MSE: 2.14E-02\n",
      "11:13 active_learning_rati INFO    Active learning iteration 5/10\n",
      "11:14 active_learning_rati INFO    Adding theta = [0.96] to labeled data.\n",
      "11:14 active_learning_rati INFO    Fitting ratio model\n",
      "11:14 active_learning_rati INFO    Finished fitting ratio model. Best epoch information: loss=6.15E-01, accuracy=7.14E-01, val_loss=5.52E-01, val_accuracy=7.44E-01\n",
      "11:14 active_learning_rati INFO    Evaluating MSE on test dataset\n",
      "11:15 active_learning_rati INFO    Test MSE: 1.89E-02\n",
      "11:15 active_learning_rati INFO    Active learning iteration 6/10\n",
      "11:16 active_learning_rati INFO    Adding theta = [0.94] to labeled data.\n",
      "11:16 active_learning_rati INFO    Fitting ratio model\n",
      "11:17 active_learning_rati INFO    Finished fitting ratio model. Best epoch information: loss=6.10E-01, accuracy=7.14E-01, val_loss=5.55E-01, val_accuracy=7.45E-01\n",
      "11:17 active_learning_rati INFO    Evaluating MSE on test dataset\n",
      "11:18 active_learning_rati INFO    Test MSE: 2.16E-02\n",
      "11:18 active_learning_rati INFO    Active learning iteration 7/10\n",
      "11:19 active_learning_rati INFO    Adding theta = [0.93] to labeled data.\n",
      "11:19 active_learning_rati INFO    Fitting ratio model\n",
      "11:19 active_learning_rati INFO    Finished fitting ratio model. Best epoch information: loss=5.96E-01, accuracy=7.18E-01, val_loss=5.44E-01, val_accuracy=7.40E-01\n",
      "11:19 active_learning_rati INFO    Evaluating MSE on test dataset\n",
      "11:20 active_learning_rati INFO    Test MSE: 1.91E-02\n",
      "11:20 active_learning_rati INFO    Active learning iteration 8/10\n",
      "11:22 active_learning_rati INFO    Adding theta = [0.92] to labeled data.\n",
      "11:22 active_learning_rati INFO    Fitting ratio model\n",
      "11:22 active_learning_rati INFO    Finished fitting ratio model. Best epoch information: loss=5.80E-01, accuracy=7.30E-01, val_loss=5.10E-01, val_accuracy=7.72E-01\n",
      "11:22 active_learning_rati INFO    Evaluating MSE on test dataset\n",
      "11:23 active_learning_rati INFO    Test MSE: 2.07E-02\n",
      "11:23 active_learning_rati INFO    Active learning iteration 9/10\n",
      "11:25 active_learning_rati INFO    Adding theta = [0.91] to labeled data.\n",
      "11:25 active_learning_rati INFO    Fitting ratio model\n",
      "11:25 active_learning_rati INFO    Finished fitting ratio model. Best epoch information: loss=5.66E-01, accuracy=7.35E-01, val_loss=5.02E-01, val_accuracy=7.73E-01\n",
      "11:25 active_learning_rati INFO    Evaluating MSE on test dataset\n",
      "11:26 active_learning_rati INFO    Test MSE: 1.86E-02\n",
      "11:26 active_learning_rati INFO    Active learning iteration 10/10\n"
     ]
    }
   ],
   "source": [
    "for acquisition_function in acquisition_functions:\n",
    "    print(f'\\n**** Fitting with {acquisition_function} ****\\n')\n",
    "    active_learner = ActiveLearner(simulator_func=triple_mixture,\n",
    "                                   theta_0=theta_0,\n",
    "                                   theta_1_iterator=theta_1_iterator,\n",
    "                                   n_samples_per_theta=n_samples_per_theta,\n",
    "                                   ratio_model=ratio_model,\n",
    "                                   total_param_grid=param_grid,\n",
    "                                   test_dataset=test_dataset,\n",
    "                                   acquisition_function=acquisition_function)\n",
    "    active_learner.fit(10)\n",
    "    learners[acquisition_function] = active_learner\n",
    "    test_mses[acquisition_function] = active_learner.test_history['mse'].values"
   ]
  },
  {
   "cell_type": "code",
   "execution_count": null,
   "metadata": {},
   "outputs": [],
   "source": [
    "import matplotlib.pyplot as plt\n",
    "\n",
    "for af, mse in test_mses.items():\n",
    "    plt.plot(mse, label=af)\n",
    "\n",
    "plt.legend()"
   ]
  },
  {
   "cell_type": "code",
   "execution_count": null,
   "metadata": {},
   "outputs": [],
   "source": [
    "from celluloid import Camera\n",
    "from IPython.core.display import HTML\n",
    "\n",
    "%matplotlib notebook\n",
    "\n",
    "learner = learners['std_regressor']\n",
    "camera = Camera(plt.figure())\n",
    "\n",
    "for i, item in enumerate(learner.gp_history, 1):\n",
    "    plt.plot(item['X_train'], item['y_train'], 'ro')\n",
    "    plt.plot(item['X_test'], item['mean'], 'b')\n",
    "    plt.fill_between(item['X_test'].squeeze(),\n",
    "                    item['mean'] - item['std'],\n",
    "                    item['mean'] + item['std'],\n",
    "                    alpha=.5, fc='b', ec='None')\n",
    "    ax = plt.gca()\n",
    "    ax.text(0.5, 1.01, f'Iteration {i}', transform=ax.transAxes, fontsize=18, ha='center')\n",
    "    camera.snap()\n",
    "\n",
    "animation = camera.animate(interval = 1000)"
   ]
  },
  {
   "cell_type": "code",
   "execution_count": null,
   "metadata": {},
   "outputs": [],
   "source": []
  }
 ],
 "metadata": {
  "kernelspec": {
   "display_name": "Python 3",
   "language": "python",
   "name": "python3"
  },
  "language_info": {
   "codemirror_mode": {
    "name": "ipython",
    "version": 3
   },
   "file_extension": ".py",
   "mimetype": "text/x-python",
   "name": "python",
   "nbconvert_exporter": "python",
   "pygments_lexer": "ipython3",
   "version": "3.7.7"
  }
 },
 "nbformat": 4,
 "nbformat_minor": 4
}
