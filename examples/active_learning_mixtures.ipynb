{
 "cells": [
  {
   "cell_type": "code",
   "execution_count": 24,
   "metadata": {},
   "outputs": [
    {
     "name": "stdout",
     "output_type": "stream",
     "text": [
      "['../..', '..', '..', '..', 'C:\\\\Users\\\\h12913cs\\\\dev\\\\active_learning_ratio_estimation\\\\examples', 'C:\\\\Users\\\\h12913cs\\\\AppData\\\\Local\\\\Continuum\\\\miniconda3\\\\envs\\\\py37\\\\python37.zip', 'C:\\\\Users\\\\h12913cs\\\\AppData\\\\Local\\\\Continuum\\\\miniconda3\\\\envs\\\\py37\\\\DLLs', 'C:\\\\Users\\\\h12913cs\\\\AppData\\\\Local\\\\Continuum\\\\miniconda3\\\\envs\\\\py37\\\\lib', 'C:\\\\Users\\\\h12913cs\\\\AppData\\\\Local\\\\Continuum\\\\miniconda3\\\\envs\\\\py37', '', 'C:\\\\Users\\\\h12913cs\\\\AppData\\\\Local\\\\Continuum\\\\miniconda3\\\\envs\\\\py37\\\\lib\\\\site-packages', 'C:\\\\Users\\\\h12913cs\\\\AppData\\\\Local\\\\Continuum\\\\miniconda3\\\\envs\\\\py37\\\\lib\\\\site-packages\\\\win32', 'C:\\\\Users\\\\h12913cs\\\\AppData\\\\Local\\\\Continuum\\\\miniconda3\\\\envs\\\\py37\\\\lib\\\\site-packages\\\\win32\\\\lib', 'C:\\\\Users\\\\h12913cs\\\\AppData\\\\Local\\\\Continuum\\\\miniconda3\\\\envs\\\\py37\\\\lib\\\\site-packages\\\\Pythonwin', 'C:\\\\Users\\\\h12913cs\\\\AppData\\\\Local\\\\Continuum\\\\miniconda3\\\\envs\\\\py37\\\\lib\\\\site-packages\\\\IPython\\\\extensions', 'C:\\\\Users\\\\h12913cs\\\\.ipython']\n"
     ]
    }
   ],
   "source": [
    "# uncomment the code below to temporarily install active_learning_ratio_estimation from source\n",
    "# if you do not do this, unless you already have it installed in this environment, this notebook will not run\n",
    "\n",
    "# import os, sys, tempfile, shutil\n",
    "# original_dir = os.getcwd()\n",
    "# REPO_NAME = 'active_learning_ratio_estimation'\n",
    "# BRANCH = 'master'\n",
    "# tempdir = tempfile.gettempdir()\n",
    "# os.chdir(tempdir)\n",
    "# if os.path.exists(REPO_NAME):\n",
    "#   print('Removing repo')\n",
    "#   shutil.rmtree(REPO_NAME)\n",
    "# print('Cloning repo')\n",
    "# os.system(f'git clone --single-branch --branch {BRANCH} https://github.com/cjs220/{REPO_NAME}.git')\n",
    "# sys.path.insert(0, os.path.join(tempdir, REPO_NAME))\n",
    "# os.chdir(original_dir)"
   ]
  },
  {
   "cell_type": "code",
   "execution_count": 4,
   "metadata": {},
   "outputs": [],
   "source": [
    "# matplotlib setup\n",
    "import matplotlib.pyplot as plt\n",
    "\n",
    "%matplotlib inline\n",
    "\n",
    "size=24\n",
    "params = {\n",
    "    'legend.fontsize': size*0.75,\n",
    "    'figure.figsize': (10, 5),\n",
    "    'axes.labelsize': size,\n",
    "    'axes.titlesize': size,\n",
    "    'xtick.labelsize': size * 0.75,\n",
    "    'ytick.labelsize': size * 0.75,\n",
    "    'font.family': 'sans-serif',\n",
    "    'axes.titlepad': 12.5\n",
    "}\n",
    "plt.rcParams.update(params)"
   ]
  },
  {
   "cell_type": "code",
   "execution_count": 5,
   "metadata": {},
   "outputs": [],
   "source": [
    "# logging setup\n",
    "import logging\n",
    "\n",
    "# make logger output only INFO from active_learning_ratio_estimation\n",
    "logging.basicConfig(\n",
    "    format='%(asctime)-5.5s %(name)-20.20s %(levelname)-7.7s %(message)s',\n",
    "    datefmt='%H:%M',\n",
    "    level=logging.INFO\n",
    ")\n",
    "\n",
    "for key in logging.Logger.manager.loggerDict:\n",
    "    if \"active_learning_ratio_estimation\" not in key:\n",
    "        logging.getLogger(key).setLevel(logging.WARNING)"
   ]
  },
  {
   "cell_type": "code",
   "execution_count": 7,
   "metadata": {},
   "outputs": [],
   "source": [
    "import numpy as np\n",
    "import tensorflow as tf\n",
    "import tensorflow_probability as tfp\n",
    "tfd = tfp.distributions\n",
    "\n",
    "\n",
    "def triple_mixture(gamma):\n",
    "    mixture_probs = [\n",
    "        0.5 * (1 - gamma),\n",
    "        0.5 * (1 - gamma),\n",
    "        gamma\n",
    "    ]\n",
    "    gaussians = [\n",
    "        tfd.Normal(loc=-2, scale=0.75),\n",
    "        tfd.Normal(loc=0, scale=2),\n",
    "        tfd.Normal(loc=1, scale=0.5)\n",
    "    ]\n",
    "    dist = tfd.Mixture(\n",
    "        cat=tfd.Categorical(probs=mixture_probs),\n",
    "        components=gaussians\n",
    "    )\n",
    "    return dist"
   ]
  },
  {
   "cell_type": "code",
   "execution_count": 22,
   "metadata": {},
   "outputs": [
    {
     "ename": "ModuleNotFoundError",
     "evalue": "No module named 'active_learning_ratio_estimation.dataset'",
     "output_type": "error",
     "traceback": [
      "\u001b[1;31m---------------------------------------------------------------------------\u001b[0m",
      "\u001b[1;31mModuleNotFoundError\u001b[0m                       Traceback (most recent call last)",
      "\u001b[1;32m<ipython-input-22-0f6564ee51f6>\u001b[0m in \u001b[0;36m<module>\u001b[1;34m\u001b[0m\n\u001b[1;32m----> 1\u001b[1;33m \u001b[1;32mfrom\u001b[0m \u001b[0mactive_learning_ratio_estimation\u001b[0m\u001b[1;33m.\u001b[0m\u001b[0mdataset\u001b[0m \u001b[1;32mimport\u001b[0m \u001b[1;33m*\u001b[0m\u001b[1;33m\u001b[0m\u001b[1;33m\u001b[0m\u001b[0m\n\u001b[0m\u001b[0;32m      2\u001b[0m \u001b[1;33m\u001b[0m\u001b[0m\n\u001b[0;32m      3\u001b[0m \u001b[0mtheta_bounds\u001b[0m \u001b[1;33m=\u001b[0m \u001b[1;33m(\u001b[0m\u001b[1;36m0\u001b[0m\u001b[1;33m,\u001b[0m \u001b[1;36m1\u001b[0m\u001b[1;33m)\u001b[0m\u001b[1;33m\u001b[0m\u001b[1;33m\u001b[0m\u001b[0m\n\u001b[0;32m      4\u001b[0m \u001b[0mtheta_0\u001b[0m \u001b[1;33m=\u001b[0m \u001b[1;36m0.05\u001b[0m\u001b[1;33m\u001b[0m\u001b[1;33m\u001b[0m\u001b[0m\n\u001b[0;32m      5\u001b[0m \u001b[0mnum_grid\u001b[0m \u001b[1;33m=\u001b[0m \u001b[1;36m11\u001b[0m\u001b[1;33m\u001b[0m\u001b[1;33m\u001b[0m\u001b[0m\n",
      "\u001b[1;31mModuleNotFoundError\u001b[0m: No module named 'active_learning_ratio_estimation.dataset'"
     ]
    }
   ],
   "source": [
    "from active_learning_ratio_estimation.dataset import ParamGrid, ParamIterator, SinglyParameterizedRatioDataset\n",
    "\n",
    "theta_bounds = (0, 1)\n",
    "theta_0 = 0.05\n",
    "num_grid = 11\n",
    "n_samples_per_theta = int(1e3)\n",
    "param_grid = ParamGrid(bounds=[theta_bounds], num=num_grid)  # all possible parameter points\n",
    "\n",
    "theta_1_iterator = ParamGrid(bounds=[theta_bounds], num=3)  # initial parameter points in dataset\n",
    "\n",
    "# test dataset\n",
    "test_param_points = 10\n",
    "test_iterator = ParamIterator([np.random.rand(1) for _ in range(test_param_points)])\n",
    "test_dataset = SinglyParameterizedRatioDataset.from_simulator(\n",
    "    simulator_func=triple_mixture,\n",
    "    theta_0=theta_0,\n",
    "    theta_1_iterator=test_iterator,\n",
    "    n_samples_per_theta=n_samples_per_theta,\n",
    "    include_log_probs=True\n",
    ")"
   ]
  },
  {
   "cell_type": "code",
   "execution_count": null,
   "metadata": {},
   "outputs": [],
   "source": [
    "from active_learning_ratio_estimation.model import FlipoutClassifier, SinglyParameterizedRatioModel\n",
    "\n",
    "estimator = FlipoutClassifier(\n",
    "    n_hidden=(15, 15),\n",
    "    epochs=1,\n",
    "    patience=0,\n",
    "    validation_split=0.1,\n",
    "    verbose=0,\n",
    ")\n",
    "ratio_model = SinglyParameterizedRatioModel(estimator=estimator)"
   ]
  },
  {
   "cell_type": "code",
   "execution_count": null,
   "metadata": {},
   "outputs": [],
   "source": [
    "from active_learning_ratio_estimation.active_learning import active_learner\n",
    "\n",
    "learners = dict()\n",
    "test_mses = dict()\n",
    "acquisition_functions = [\n",
    "    'std_regressor',\n",
    "    'random',\n",
    "]\n",
    "n_iter = 5\n",
    "\n",
    "for acquisition_function in acquisition_functions:\n",
    "    print(f'\\n**** Fitting with {acquisition_function} ****\\n')\n",
    "    active_learner = ActiveLearner(\n",
    "        simulator_func=triple_mixture,\n",
    "        theta_0=theta_0,\n",
    "        theta_1_iterator=theta_1_iterator,\n",
    "        n_samples_per_theta=n_samples_per_theta,\n",
    "        ratio_model=ratio_model,\n",
    "        total_param_grid=param_grid,\n",
    "        test_dataset=test_dataset,\n",
    "        acquisition_function=acquisition_function,\n",
    "        ucb_kappa=0.0,\n",
    "        validation_mode=True\n",
    "    )\n",
    "    active_learner.fit(n_iter)\n",
    "    learners[acquisition_function] = active_learner\n",
    "    test_mses[acquisition_function] = active_learner.test_history['mse'].values"
   ]
  },
  {
   "cell_type": "code",
   "execution_count": null,
   "metadata": {},
   "outputs": [],
   "source": [
    "plt.figure()\n",
    "\n",
    "for af, mse in test_mses.items():\n",
    "    plt.plot(mse, label=af)\n",
    "\n",
    "plt.legend()"
   ]
  }
 ],
 "metadata": {
  "kernelspec": {
   "display_name": "Python 3",
   "language": "python",
   "name": "python3"
  },
  "language_info": {
   "codemirror_mode": {
    "name": "ipython",
    "version": 3
   },
   "file_extension": ".py",
   "mimetype": "text/x-python",
   "name": "python",
   "nbconvert_exporter": "python",
   "pygments_lexer": "ipython3",
   "version": "3.7.7"
  }
 },
 "nbformat": 4,
 "nbformat_minor": 4
}
